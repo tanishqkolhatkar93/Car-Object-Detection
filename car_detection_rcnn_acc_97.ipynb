{
  "metadata": {
    "kernelspec": {
      "language": "python",
      "display_name": "Python 3",
      "name": "python3"
    },
    "language_info": {
      "name": "python",
      "version": "3.7.10",
      "mimetype": "text/x-python",
      "codemirror_mode": {
        "name": "ipython",
        "version": 3
      },
      "pygments_lexer": "ipython3",
      "nbconvert_exporter": "python",
      "file_extension": ".py"
    },
    "colab": {
      "provenance": [],
      "private_outputs": true,
      "include_colab_link": true
    },
    "accelerator": "GPU",
    "gpuClass": "standard"
  },
  "nbformat_minor": 0,
  "nbformat": 4,
  "cells": [
    {
      "cell_type": "markdown",
      "metadata": {
        "id": "view-in-github",
        "colab_type": "text"
      },
      "source": [
        "<a href=\"https://colab.research.google.com/github/tanishqkolhatkar93/Car-Object-Detection/blob/main/car_detection_rcnn_acc_97.ipynb\" target=\"_parent\"><img src=\"https://colab.research.google.com/assets/colab-badge.svg\" alt=\"Open In Colab\"/></a>"
      ]
    },
    {
      "cell_type": "code",
      "source": [
        "!pip uninstall --yes opencv-contrib-python opencv-python\n",
        "!pip install opencv-contrib-python"
      ],
      "metadata": {
        "execution": {
          "iopub.status.busy": "2021-11-06T17:33:32.699255Z",
          "iopub.execute_input": "2021-11-06T17:33:32.699694Z",
          "iopub.status.idle": "2021-11-06T17:33:49.246618Z",
          "shell.execute_reply.started": "2021-11-06T17:33:32.699566Z",
          "shell.execute_reply": "2021-11-06T17:33:49.245743Z"
        },
        "trusted": true,
        "id": "-whGTdjDIzW8"
      },
      "execution_count": null,
      "outputs": []
    },
    {
      "cell_type": "code",
      "source": [
        "from google.colab import drive\n",
        "drive.mount('/content/drive')"
      ],
      "metadata": {
        "id": "qY9tIk8Rsa5M"
      },
      "execution_count": null,
      "outputs": []
    },
    {
      "cell_type": "code",
      "source": [
        "import tensorflow as tf\n",
        "import matplotlib.pyplot as plt\n",
        "import numpy as np\n",
        "import pandas as pd\n",
        "import cv2\n",
        "import os\n",
        "import random\n",
        "import warnings\n",
        "warnings.filterwarnings(\"ignore\")"
      ],
      "metadata": {
        "id": "aTCeSkZCGH51",
        "execution": {
          "iopub.status.busy": "2021-11-06T17:34:27.812258Z",
          "iopub.execute_input": "2021-11-06T17:34:27.812560Z",
          "iopub.status.idle": "2021-11-06T17:34:29.237008Z",
          "shell.execute_reply.started": "2021-11-06T17:34:27.812508Z",
          "shell.execute_reply": "2021-11-06T17:34:29.236264Z"
        },
        "trusted": true
      },
      "execution_count": null,
      "outputs": []
    },
    {
      "cell_type": "markdown",
      "source": [
        "### Data load\n"
      ],
      "metadata": {
        "id": "JLUfmefXiI_q"
      }
    },
    {
      "cell_type": "code",
      "source": [
        "print('Image(Train):',len(os.listdir('/content/drive/MyDrive/Car_detection_dataset/training_images')))\n",
        "print('Image(Test):',len(os.listdir('/content/drive/MyDrive/Car_detection_dataset/testing_images')))"
      ],
      "metadata": {
        "id": "t0HHFOp_fKbq",
        "execution": {
          "iopub.status.busy": "2021-11-06T17:34:29.241601Z",
          "iopub.execute_input": "2021-11-06T17:34:29.242255Z",
          "iopub.status.idle": "2021-11-06T17:34:29.253825Z",
          "shell.execute_reply.started": "2021-11-06T17:34:29.242206Z",
          "shell.execute_reply": "2021-11-06T17:34:29.253072Z"
        },
        "trusted": true
      },
      "execution_count": null,
      "outputs": []
    },
    {
      "cell_type": "code",
      "source": [
        "Data=pd.read_csv('/content/drive/MyDrive/Car_detection_dataset/train_solution_bounding_boxes.csv')"
      ],
      "metadata": {
        "id": "QLXd7gPCws8D",
        "execution": {
          "iopub.status.busy": "2021-11-06T17:34:29.255205Z",
          "iopub.execute_input": "2021-11-06T17:34:29.255537Z",
          "iopub.status.idle": "2021-11-06T17:34:29.265206Z",
          "shell.execute_reply.started": "2021-11-06T17:34:29.255501Z",
          "shell.execute_reply": "2021-11-06T17:34:29.264295Z"
        },
        "trusted": true
      },
      "execution_count": null,
      "outputs": []
    },
    {
      "cell_type": "code",
      "source": [
        "Data.head()"
      ],
      "metadata": {
        "id": "t04redgiw_2U",
        "execution": {
          "iopub.status.busy": "2021-11-06T17:34:29.419972Z",
          "iopub.execute_input": "2021-11-06T17:34:29.420174Z",
          "iopub.status.idle": "2021-11-06T17:34:29.436266Z",
          "shell.execute_reply.started": "2021-11-06T17:34:29.420148Z",
          "shell.execute_reply": "2021-11-06T17:34:29.435521Z"
        },
        "trusted": true
      },
      "execution_count": null,
      "outputs": []
    },
    {
      "cell_type": "code",
      "source": [
        "print('Train data localization:',len(Data))"
      ],
      "metadata": {
        "id": "gwim5fI_xTSy",
        "execution": {
          "iopub.status.busy": "2021-11-06T17:34:32.043425Z",
          "iopub.execute_input": "2021-11-06T17:34:32.043708Z",
          "iopub.status.idle": "2021-11-06T17:34:32.050709Z",
          "shell.execute_reply.started": "2021-11-06T17:34:32.043677Z",
          "shell.execute_reply": "2021-11-06T17:34:32.049689Z"
        },
        "trusted": true
      },
      "execution_count": null,
      "outputs": []
    },
    {
      "cell_type": "code",
      "source": [
        "for i in Data.values:\n",
        "  photo=plt.imread(f'/content/drive/MyDrive/Car_detection_dataset/training_images/{i[0]}')\n",
        "  plt.imshow(photo)\n",
        "  print('Photo shape:',photo.shape)\n",
        "  print('Name,xmin,ymin,xmax,ymax:',i)\n",
        "  pt1=(int(i[1]),int(i[2]))\n",
        "  pt2=(int(i[3]),int(i[4]))\n",
        "  color=(255, 0, 0)\n",
        "  thickness = 2\n",
        "  cv2.rectangle(photo,pt1,pt2, color, thickness)\n",
        "  plt.figure()\n",
        "  plt.imshow(photo)\n",
        "  break"
      ],
      "metadata": {
        "id": "9e3k9d-Rxhx1",
        "execution": {
          "iopub.status.busy": "2021-11-06T17:34:32.236897Z",
          "iopub.execute_input": "2021-11-06T17:34:32.237491Z",
          "iopub.status.idle": "2021-11-06T17:34:32.805424Z",
          "shell.execute_reply.started": "2021-11-06T17:34:32.237458Z",
          "shell.execute_reply": "2021-11-06T17:34:32.804764Z"
        },
        "trusted": true
      },
      "execution_count": null,
      "outputs": []
    },
    {
      "cell_type": "markdown",
      "source": [
        "### Annotations (Check)"
      ],
      "metadata": {
        "id": "NUZIXI3nHlIR"
      }
    },
    {
      "cell_type": "code",
      "source": [
        "for a,i in enumerate(Data.values):\n",
        "  img=plt.imread('/content/drive/MyDrive/Car_detection_dataset/training_images/'+i[0])\n",
        "  print(img.shape)\n",
        "  plt.figure()\n",
        "  plt.imshow(img)\n",
        "  xmin=int(i[1])\n",
        "  ymin=int(i[2])\n",
        "  xmax=int(i[3])\n",
        "  ymax=int(i[4])\n",
        "  cv2.rectangle(img,(xmin, ymin),(xmax, ymax),(255, 0, 0),2)\n",
        "  plt.figure()\n",
        "  plt.imshow(img)\n",
        "  if a ==2:\n",
        "    break"
      ],
      "metadata": {
        "id": "5M5LpOd9AMlH",
        "execution": {
          "iopub.status.busy": "2021-11-06T17:34:34.292178Z",
          "iopub.execute_input": "2021-11-06T17:34:34.292739Z",
          "iopub.status.idle": "2021-11-06T17:34:36.015576Z",
          "shell.execute_reply.started": "2021-11-06T17:34:34.292702Z",
          "shell.execute_reply": "2021-11-06T17:34:36.014754Z"
        },
        "trusted": true
      },
      "execution_count": null,
      "outputs": []
    },
    {
      "cell_type": "markdown",
      "source": [
        "## Selective Search kullanımı"
      ],
      "metadata": {
        "id": "pcwLjl1XjDrL"
      }
    },
    {
      "cell_type": "code",
      "source": [
        "cv2.setUseOptimized(True) # Optimeze\n",
        "ss = cv2.ximgproc.segmentation.createSelectiveSearchSegmentation() # Selective search obje"
      ],
      "metadata": {
        "id": "rO1dvUjuH2kn",
        "execution": {
          "iopub.status.busy": "2021-11-06T17:34:38.912744Z",
          "iopub.execute_input": "2021-11-06T17:34:38.913823Z",
          "iopub.status.idle": "2021-11-06T17:34:38.918871Z",
          "shell.execute_reply.started": "2021-11-06T17:34:38.913767Z",
          "shell.execute_reply": "2021-11-06T17:34:38.917986Z"
        },
        "trusted": true
      },
      "execution_count": null,
      "outputs": []
    },
    {
      "cell_type": "code",
      "source": [
        "im = cv2.imread('/content/drive/MyDrive/Car_detection_dataset/training_images/vid_4_1000.jpg')\n",
        "im=cv2.resize(im,(224,224))\n",
        "plt.figure()\n",
        "plt.imshow(im)\n",
        "ss.setBaseImage(im) # GÖrüntünün yüklendiği kısım\n",
        "ss.switchToSelectiveSearchFast() # Selective Search süresini hızlandırmak için\n",
        "rects = ss.process()\n",
        "print('Shape:',im.shape)\n",
        "print('possible bounty boxes:',len(rects))\n",
        "\n",
        "for rect in rects:\n",
        "  x, y, w, h = rect\n",
        "  imOut=cv2.rectangle(im, (x, y), (x+w, y+h), (0, 255, 0), 1, cv2.LINE_AA)\n",
        "plt.figure()\n",
        "plt.imshow(imOut);"
      ],
      "metadata": {
        "id": "XAUIwPBaYqw6",
        "execution": {
          "iopub.status.busy": "2021-11-06T17:34:39.156577Z",
          "iopub.execute_input": "2021-11-06T17:34:39.157107Z",
          "iopub.status.idle": "2021-11-06T17:34:40.104485Z",
          "shell.execute_reply.started": "2021-11-06T17:34:39.157072Z",
          "shell.execute_reply": "2021-11-06T17:34:40.103751Z"
        },
        "trusted": true
      },
      "execution_count": null,
      "outputs": []
    },
    {
      "cell_type": "markdown",
      "source": [
        "# Selective serach crop the image iou>0.5 (Kullanımı)"
      ],
      "metadata": {
        "id": "DwSLI7V7Y56U"
      }
    },
    {
      "cell_type": "markdown",
      "source": [
        "## Selective search"
      ],
      "metadata": {
        "id": "kjiwr_8DoOPQ"
      }
    },
    {
      "cell_type": "code",
      "source": [
        "#Iou and selective search \n",
        "cv2.setUseOptimized(True)\n",
        "ss = cv2.ximgproc.segmentation.createSelectiveSearchSegmentation()\n",
        "def get_iou(bb1, bb2):\n",
        "\n",
        "    assert bb1['x1'] < bb1['x2'] #bb1\n",
        "    assert bb1['y1'] < bb1['y2']\n",
        "\n",
        "    assert bb2['x1'] < bb2['x2'] #bb2\n",
        "    assert bb2['y1'] < bb2['y2'];\n",
        "\n",
        "    x_left = max(bb1['x1'], bb2['x1'])\n",
        "    y_top = max(bb1['y1'], bb2['y1'])\n",
        "    x_right = min(bb1['x2'], bb2['x2'])\n",
        "    y_bottom = min(bb1['y2'], bb2['y2'])\n",
        "\n",
        "    if x_right < x_left or y_bottom < y_top:\n",
        "      return 0.0\n",
        "    intersection_area = (x_right - x_left) * (y_bottom - y_top)\n",
        "    bb1_area = (bb1['x2'] - bb1['x1']) * (bb1['y2'] - bb1['y1'])\n",
        "    bb2_area = (bb2['x2'] - bb2['x1']) * (bb2['y2'] - bb2['y1'])\n",
        "    iou = intersection_area / float(bb1_area + bb2_area - intersection_area)\n",
        "    assert iou >= 0.0\n",
        "    assert iou <= 1.0\n",
        "    return iou"
      ],
      "metadata": {
        "id": "4iRf02gJY-we",
        "execution": {
          "iopub.status.busy": "2021-11-06T17:34:43.144296Z",
          "iopub.execute_input": "2021-11-06T17:34:43.144583Z",
          "iopub.status.idle": "2021-11-06T17:34:43.154599Z",
          "shell.execute_reply.started": "2021-11-06T17:34:43.144549Z",
          "shell.execute_reply": "2021-11-06T17:34:43.153807Z"
        },
        "trusted": true
      },
      "execution_count": null,
      "outputs": []
    },
    {
      "cell_type": "code",
      "source": [
        "image_liste=[]\n",
        "k=0\n",
        "l=0\n",
        "z=0 #Loading\n",
        "for a in pd.read_csv('/content/drive/MyDrive/Car_detection_dataset/train_solution_bounding_boxes.csv').values:\n",
        "  Name,xmin,ymin,xmax,ymax=a\n",
        "  bb1={ #gerçek bounty boxxes\n",
        "            'x1':int(xmin),\n",
        "            'y1':int(ymin),\n",
        "            'x2':int(xmax),\n",
        "            'y2':int(ymax)\n",
        "            }\n",
        "  try:\n",
        "    img=cv2.imread('/content/drive/MyDrive/Car_detection_dataset/training_images/'+Name)\n",
        "    ss.setBaseImage(img)\n",
        "    ss.switchToSelectiveSearchFast()\n",
        "    rects = ss.process()\n",
        "    for i in rects:\n",
        "      x, y, w, h = i # Selective bounty boxxes\n",
        "      bb2={'x1':x, \n",
        "          'y1':y,\n",
        "          'x2':x+w,\n",
        "          'y2':y+h\n",
        "          }\n",
        "      img1=img[bb2['y1']:bb2['y2'],bb2['x1']:bb2['x2']] # Crop img\n",
        "      img1_shape=cv2.resize(img1,(224,224))\n",
        "      if k<l:\n",
        "            if 0.5<get_iou(bb1,bb2):  \n",
        "              image_liste.append([img1_shape,1])\n",
        "              k+=1\n",
        "      else:\n",
        "        if 0.5<get_iou(bb1,bb2):  \n",
        "          image_liste.append([img1_shape,1])\n",
        "          k+=1\n",
        "        else:\n",
        "          image_liste.append([img1_shape,0])\n",
        "          l+=1\n",
        "  except Exception as e:\n",
        "    print('hata var',e)\n",
        "  z+=1\n",
        "  print(Name,z,len(rects))"
      ],
      "metadata": {
        "id": "FXGwp57VFO-C",
        "execution": {
          "iopub.status.busy": "2021-11-06T17:34:43.532507Z",
          "iopub.execute_input": "2021-11-06T17:34:43.532749Z",
          "iopub.status.idle": "2021-11-06T17:58:38.019461Z",
          "shell.execute_reply.started": "2021-11-06T17:34:43.532720Z",
          "shell.execute_reply": "2021-11-06T17:58:38.017657Z"
        },
        "trusted": true
      },
      "execution_count": null,
      "outputs": []
    },
    {
      "cell_type": "code",
      "source": [
        "len(image_liste)"
      ],
      "metadata": {
        "id": "yEOGADGbJW8C",
        "execution": {
          "iopub.status.busy": "2021-11-06T17:58:38.021283Z",
          "iopub.execute_input": "2021-11-06T17:58:38.021523Z",
          "iopub.status.idle": "2021-11-06T17:58:38.028399Z",
          "shell.execute_reply.started": "2021-11-06T17:58:38.021487Z",
          "shell.execute_reply": "2021-11-06T17:58:38.027583Z"
        },
        "trusted": true
      },
      "execution_count": null,
      "outputs": []
    },
    {
      "cell_type": "code",
      "source": [
        "data=[]\n",
        "data_label=[]\n",
        "for features,label in image_liste:\n",
        "  data.append(features)\n",
        "  data_label.append(label)\n",
        "print('işlem başarılı')"
      ],
      "metadata": {
        "id": "hLvSdbOrspiI",
        "execution": {
          "iopub.status.busy": "2021-11-06T17:58:38.029490Z",
          "iopub.execute_input": "2021-11-06T17:58:38.031047Z",
          "iopub.status.idle": "2021-11-06T17:58:38.041819Z",
          "shell.execute_reply.started": "2021-11-06T17:58:38.031012Z",
          "shell.execute_reply": "2021-11-06T17:58:38.040957Z"
        },
        "trusted": true
      },
      "execution_count": null,
      "outputs": []
    },
    {
      "cell_type": "code",
      "source": [
        "print('Fotoğraf sayısı:',len(data),'|Label sayısı:',len(data_label))"
      ],
      "metadata": {
        "id": "f6IP74g5s59e",
        "execution": {
          "iopub.status.busy": "2021-11-06T17:58:38.044363Z",
          "iopub.execute_input": "2021-11-06T17:58:38.044749Z",
          "iopub.status.idle": "2021-11-06T17:58:38.057340Z",
          "shell.execute_reply.started": "2021-11-06T17:58:38.044708Z",
          "shell.execute_reply": "2021-11-06T17:58:38.056486Z"
        },
        "trusted": true
      },
      "execution_count": null,
      "outputs": []
    },
    {
      "cell_type": "code",
      "source": [
        "i=random.randint(1,10583)\n",
        "print('Class:',data_label[i])\n",
        "print('Görüntü boyutu:',data[i].shape)\n",
        "plt.imshow(data[i]);"
      ],
      "metadata": {
        "id": "YjmcXO4YW9xJ",
        "execution": {
          "iopub.status.busy": "2021-11-06T17:58:38.059391Z",
          "iopub.execute_input": "2021-11-06T17:58:38.059864Z",
          "iopub.status.idle": "2021-11-06T17:58:38.295537Z",
          "shell.execute_reply.started": "2021-11-06T17:58:38.059806Z",
          "shell.execute_reply": "2021-11-06T17:58:38.294872Z"
        },
        "trusted": true
      },
      "execution_count": null,
      "outputs": []
    },
    {
      "cell_type": "code",
      "source": [
        "data=np.asarray(data)\n",
        "data_label=np.asarray(data_label) "
      ],
      "metadata": {
        "id": "g5dwHyH9FR_j",
        "execution": {
          "iopub.status.busy": "2021-11-06T17:58:38.297845Z",
          "iopub.execute_input": "2021-11-06T17:58:38.298090Z",
          "iopub.status.idle": "2021-11-06T17:58:38.776556Z",
          "shell.execute_reply.started": "2021-11-06T17:58:38.298058Z",
          "shell.execute_reply": "2021-11-06T17:58:38.775766Z"
        },
        "trusted": true
      },
      "execution_count": null,
      "outputs": []
    },
    {
      "cell_type": "code",
      "source": [
        "print('Araba görüntüsü yok:',len(data_label[data_label==0]),'|Araba görüntüsü var:',len(data_label[data_label==1]))"
      ],
      "metadata": {
        "id": "GKmzj9Q0ZfbS",
        "execution": {
          "iopub.status.busy": "2021-11-06T17:58:38.778165Z",
          "iopub.execute_input": "2021-11-06T17:58:38.778466Z",
          "iopub.status.idle": "2021-11-06T17:58:38.785291Z",
          "shell.execute_reply.started": "2021-11-06T17:58:38.778429Z",
          "shell.execute_reply": "2021-11-06T17:58:38.784464Z"
        },
        "trusted": true
      },
      "execution_count": null,
      "outputs": []
    },
    {
      "cell_type": "code",
      "source": [
        "data.shape"
      ],
      "metadata": {
        "id": "ili2XgpXHUwK",
        "execution": {
          "iopub.status.busy": "2021-11-06T17:58:38.786421Z",
          "iopub.execute_input": "2021-11-06T17:58:38.787181Z",
          "iopub.status.idle": "2021-11-06T17:58:38.794461Z",
          "shell.execute_reply.started": "2021-11-06T17:58:38.787145Z",
          "shell.execute_reply": "2021-11-06T17:58:38.793695Z"
        },
        "trusted": true
      },
      "execution_count": null,
      "outputs": []
    },
    {
      "cell_type": "code",
      "source": [
        "data_label.shape"
      ],
      "metadata": {
        "id": "u_Qfm6h8oIYM",
        "execution": {
          "iopub.status.busy": "2021-11-06T17:58:38.795628Z",
          "iopub.execute_input": "2021-11-06T17:58:38.796013Z",
          "iopub.status.idle": "2021-11-06T17:58:38.804065Z",
          "shell.execute_reply.started": "2021-11-06T17:58:38.795978Z",
          "shell.execute_reply": "2021-11-06T17:58:38.803224Z"
        },
        "trusted": true
      },
      "execution_count": null,
      "outputs": []
    },
    {
      "cell_type": "code",
      "source": [
        "from sklearn.model_selection import train_test_split\n",
        "\n",
        "x_train,x_val,y_train,y_val=train_test_split(data,data_label,test_size=0.33, random_state=42)"
      ],
      "metadata": {
        "id": "wd92-LgQscss",
        "execution": {
          "iopub.status.busy": "2021-11-06T17:58:38.806998Z",
          "iopub.execute_input": "2021-11-06T17:58:38.807588Z",
          "iopub.status.idle": "2021-11-06T17:58:39.801046Z",
          "shell.execute_reply.started": "2021-11-06T17:58:38.807518Z",
          "shell.execute_reply": "2021-11-06T17:58:39.800282Z"
        },
        "trusted": true
      },
      "execution_count": null,
      "outputs": []
    },
    {
      "cell_type": "code",
      "source": [
        "print('x_train shape:',x_train.shape)\n",
        "print('x_val shape:',x_val.shape)\n",
        "print('y_train shape:',y_train.shape)\n",
        "print('y_val shape:',y_val.shape)"
      ],
      "metadata": {
        "id": "6YFH8o-0s2tz",
        "execution": {
          "iopub.status.busy": "2021-11-06T17:58:39.802573Z",
          "iopub.execute_input": "2021-11-06T17:58:39.802825Z",
          "iopub.status.idle": "2021-11-06T17:58:39.809376Z",
          "shell.execute_reply.started": "2021-11-06T17:58:39.802791Z",
          "shell.execute_reply": "2021-11-06T17:58:39.808550Z"
        },
        "trusted": true
      },
      "execution_count": null,
      "outputs": []
    },
    {
      "cell_type": "markdown",
      "source": [
        "## Model"
      ],
      "metadata": {
        "id": "M0XUOWCdYqBr"
      }
    },
    {
      "cell_type": "code",
      "source": [
        "base_model=tf.keras.applications.VGG16(include_top=False,input_shape=(224,224,3),weights='imagenet')"
      ],
      "metadata": {
        "id": "IyxcgC7RqeXu",
        "execution": {
          "iopub.status.busy": "2021-11-06T17:58:39.810899Z",
          "iopub.execute_input": "2021-11-06T17:58:39.811466Z",
          "iopub.status.idle": "2021-11-06T17:58:43.903995Z",
          "shell.execute_reply.started": "2021-11-06T17:58:39.811431Z",
          "shell.execute_reply": "2021-11-06T17:58:43.903168Z"
        },
        "trusted": true
      },
      "execution_count": null,
      "outputs": []
    },
    {
      "cell_type": "code",
      "source": [
        "base_model.summary()"
      ],
      "metadata": {
        "id": "9x1YashjsQcU",
        "execution": {
          "iopub.status.busy": "2021-11-06T17:58:43.908143Z",
          "iopub.execute_input": "2021-11-06T17:58:43.908633Z",
          "iopub.status.idle": "2021-11-06T17:58:43.935152Z",
          "shell.execute_reply.started": "2021-11-06T17:58:43.908592Z",
          "shell.execute_reply": "2021-11-06T17:58:43.934353Z"
        },
        "trusted": true
      },
      "execution_count": null,
      "outputs": []
    },
    {
      "cell_type": "code",
      "source": [
        "model=tf.keras.Sequential()\n",
        "model.add(base_model)\n",
        "model.add(tf.keras.layers.GlobalAveragePooling2D())\n",
        "model.add(tf.keras.layers.Dropout(0.5))\n",
        "model.add(tf.keras.layers.Dense(1,activation='sigmoid'))"
      ],
      "metadata": {
        "id": "LGYwOFdbsUsY",
        "execution": {
          "iopub.status.busy": "2021-11-06T17:58:43.936393Z",
          "iopub.execute_input": "2021-11-06T17:58:43.936783Z",
          "iopub.status.idle": "2021-11-06T17:58:44.006286Z",
          "shell.execute_reply.started": "2021-11-06T17:58:43.936742Z",
          "shell.execute_reply": "2021-11-06T17:58:44.005626Z"
        },
        "trusted": true
      },
      "execution_count": null,
      "outputs": []
    },
    {
      "cell_type": "code",
      "source": [
        "model.summary()"
      ],
      "metadata": {
        "id": "WEXbwB2ksiz8",
        "execution": {
          "iopub.status.busy": "2021-11-06T17:58:44.007840Z",
          "iopub.execute_input": "2021-11-06T17:58:44.008241Z",
          "iopub.status.idle": "2021-11-06T17:58:44.018413Z",
          "shell.execute_reply.started": "2021-11-06T17:58:44.008204Z",
          "shell.execute_reply": "2021-11-06T17:58:44.017740Z"
        },
        "trusted": true
      },
      "execution_count": null,
      "outputs": []
    },
    {
      "cell_type": "code",
      "source": [
        "base_model.trainable=False"
      ],
      "metadata": {
        "id": "3V4OrHN-sm70",
        "execution": {
          "iopub.status.busy": "2021-11-06T17:58:44.019540Z",
          "iopub.execute_input": "2021-11-06T17:58:44.019892Z",
          "iopub.status.idle": "2021-11-06T17:58:44.025073Z",
          "shell.execute_reply.started": "2021-11-06T17:58:44.019852Z",
          "shell.execute_reply": "2021-11-06T17:58:44.024114Z"
        },
        "trusted": true
      },
      "execution_count": null,
      "outputs": []
    },
    {
      "cell_type": "code",
      "source": [
        "for i,layer in enumerate(base_model.layers):\n",
        "  print(i,layer.name,'-',layer.trainable)"
      ],
      "metadata": {
        "id": "mjaLPRbRstGJ",
        "execution": {
          "iopub.status.busy": "2021-11-06T17:58:44.026428Z",
          "iopub.execute_input": "2021-11-06T17:58:44.027221Z",
          "iopub.status.idle": "2021-11-06T17:58:44.046471Z",
          "shell.execute_reply.started": "2021-11-06T17:58:44.027183Z",
          "shell.execute_reply": "2021-11-06T17:58:44.045783Z"
        },
        "trusted": true
      },
      "execution_count": null,
      "outputs": []
    },
    {
      "cell_type": "code",
      "source": [
        "model.compile(loss='binary_crossentropy',optimizer=tf.keras.optimizers.Adam(),metrics='accuracy')"
      ],
      "metadata": {
        "id": "5QTYrjrgsvkL",
        "execution": {
          "iopub.status.busy": "2021-11-06T17:58:44.047564Z",
          "iopub.execute_input": "2021-11-06T17:58:44.047893Z",
          "iopub.status.idle": "2021-11-06T17:58:44.060588Z",
          "shell.execute_reply.started": "2021-11-06T17:58:44.047857Z",
          "shell.execute_reply": "2021-11-06T17:58:44.059649Z"
        },
        "trusted": true
      },
      "execution_count": null,
      "outputs": []
    },
    {
      "cell_type": "code",
      "source": [
        "epoch=4\n",
        "hist=model.fit(x_train,y_train,epochs=epoch,validation_data=(x_val,y_val))"
      ],
      "metadata": {
        "id": "G7WPWJU-s2bC",
        "execution": {
          "iopub.status.busy": "2021-11-06T17:58:44.062869Z",
          "iopub.execute_input": "2021-11-06T17:58:44.063372Z",
          "iopub.status.idle": "2021-11-06T18:01:08.520129Z",
          "shell.execute_reply.started": "2021-11-06T17:58:44.063337Z",
          "shell.execute_reply": "2021-11-06T18:01:08.519332Z"
        },
        "trusted": true
      },
      "execution_count": null,
      "outputs": []
    },
    {
      "cell_type": "markdown",
      "source": [
        "## Deneme"
      ],
      "metadata": {
        "id": "bAYNmZhNPzuH"
      }
    },
    {
      "cell_type": "code",
      "source": [
        "car=[]\n",
        "photo_path='/content/WhatsApp Image 2023-02-15 at 11.40.57 AM.jpeg'\n",
        "deneme_img=cv2.imread(photo_path)\n",
        "ss.setBaseImage(deneme_img)\n",
        "ss.switchToSelectiveSearchFast()\n",
        "rects1 = ss.process()\n",
        "print('Fotoğraftaki muhtemel obje sayısı: ',len(rects1))\n",
        "for i in rects1:\n",
        "  x, y, w, h = i\n",
        "  bb3={'x1':x,\n",
        "        'y1':y,\n",
        "        'x2':x+w,\n",
        "        'y2':y+h\n",
        "      }\n",
        "  try:\n",
        "    assert bb3['x1'] < bb3['x2']\n",
        "    assert bb3['y1'] < bb3['y2']\n",
        "    img_data=deneme_img[bb3['y1']:bb3['y2'],bb3['x1']:bb3['x2']]\n",
        "    img_data=cv2.resize(img_data,(224,224))\n",
        "    tahmin=model.predict(img_data.reshape(1,224,224,3))\n",
        "    if tahmin[0]>0.5:\n",
        "      car.append([bb3,tahmin[0]])\n",
        "    else:\n",
        "      pass\n",
        "  except Exception as e:\n",
        "    print('hata',e)\n",
        "print('kaç adet class tahmini 1 olan muhtemel bounty box var:',len(car))\n",
        "print('-------------------------------------------------------------------------')\n",
        "deneme_img=cv2.imread(photo_path)\n",
        "car[np.argmax(np.array(car)[:,1])][0]\n",
        "pt1=(car[np.argmax(np.array(car)[:,1])][0]['x1'],car[np.argmax(np.array(car)[:,1])][0]['y1'])\n",
        "pt2=(car[np.argmax(np.array(car)[:,1])][0]['x2'],car[np.argmax(np.array(car)[:,1])][0]['y2'])\n",
        "plt.figure()\n",
        "plt.imshow(deneme_img)\n",
        "cv2.rectangle(deneme_img,pt1,pt2,(255, 0, 0),2)\n",
        "plt.figure()\n",
        "plt.title(f'Class numarası 1 olup ihtimal oranı en yüksek bounty box score: %{car[np.argmax(np.array(car)[:,1])][1][0]*100}') \n",
        "plt.imshow(deneme_img);"
      ],
      "metadata": {
        "id": "rUdnyHVsuUOG",
        "execution": {
          "iopub.status.busy": "2021-11-06T18:01:08.524074Z",
          "iopub.execute_input": "2021-11-06T18:01:08.524385Z",
          "iopub.status.idle": "2021-11-06T18:02:39.084282Z",
          "shell.execute_reply.started": "2021-11-06T18:01:08.524346Z",
          "shell.execute_reply": "2021-11-06T18:02:39.083611Z"
        },
        "trusted": true
      },
      "execution_count": null,
      "outputs": []
    },
    {
      "cell_type": "code",
      "source": [
        "epoch=4\n",
        "hist=model.fit(x_train,y_train,epochs=epoch,validation_data=(x_val,y_val))"
      ],
      "metadata": {
        "id": "TW91TpjV5yhm"
      },
      "execution_count": null,
      "outputs": []
    }
  ]
}